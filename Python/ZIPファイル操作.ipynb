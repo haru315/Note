{
  "nbformat": 4,
  "nbformat_minor": 0,
  "metadata": {
    "colab": {
      "name": "ZIPファイル操作.ipynb",
      "provenance": [],
      "collapsed_sections": []
    },
    "kernelspec": {
      "name": "python3",
      "display_name": "Python 3"
    },
    "language_info": {
      "name": "python"
    }
  },
  "cells": [
    {
      "cell_type": "markdown",
      "metadata": {
        "id": "B0JYYLdpAEUQ"
      },
      "source": [
        "コラボラトリーで動作します\n",
        "## 準備"
      ]
    },
    {
      "cell_type": "code",
      "metadata": {
        "colab": {
          "base_uri": "https://localhost:8080/"
        },
        "id": "-i1KgNDxAJvv",
        "outputId": "ac758e89-4fd0-483e-fc6e-9e1993098dd4"
      },
      "source": [
        "# テスト用ファイル・フォルダ―生成\n",
        "! mkdir testFolder_1\n",
        "! touch testFolder_1/test1.txt\n",
        "! touch testFolder_1/test2.txt\n",
        "! touch testFolder_1/test3.txt\n",
        "! mkdir testFolder_1/testFolder_1_1\n",
        "! touch testFolder_1/testFolder_1_1/test1.txt\n",
        "! touch testFolder_1/testFolder_1_1/test2.txt\n",
        "! touch testFolder_1/testFolder_1_1/test3.txt"
      ],
      "execution_count": null,
      "outputs": [
        {
          "output_type": "stream",
          "name": "stdout",
          "text": [
            "mkdir: cannot create directory ‘testFolder_1’: File exists\n"
          ]
        }
      ]
    },
    {
      "cell_type": "markdown",
      "metadata": {
        "id": "PZ2axeUHndpy"
      },
      "source": [
        "## インポート"
      ]
    },
    {
      "cell_type": "code",
      "metadata": {
        "id": "dNTVUYQZ_WoP"
      },
      "source": [
        "import zipfile"
      ],
      "execution_count": null,
      "outputs": []
    },
    {
      "cell_type": "markdown",
      "metadata": {
        "id": "f5fdX1H_BR4n"
      },
      "source": [
        "## ZIPファイルに圧縮\n",
        "- compress_type = 圧縮方式\n",
        "    - zipfile.ZIP_STORED: 圧縮せず複数ファイルをまとめるだけ（デフォルト）\n",
        "    - zipfile.ZIP_DEFLATED: 通常のZIP圧縮（要zlibモジュール）\n",
        "    - zipfile.ZIP_BZIP2: BZIP2圧縮（要bz2モジュール）\n",
        "    - zipfile.ZIP_LZMA: LZMA圧縮（要lzmaモジュール）"
      ]
    },
    {
      "cell_type": "code",
      "metadata": {
        "id": "sQ1hmcqSBQdO"
      },
      "source": [
        "with zipfile.ZipFile('new_comp.zip', 'w', compression=zipfile.ZIP_DEFLATED) as new_zip:\n",
        "    new_zip.write('testFolder_1/test1.txt', arcname='test1.txt')\n",
        "    new_zip.write('testFolder_1/test2.txt', arcname='test2.txt')"
      ],
      "execution_count": null,
      "outputs": []
    },
    {
      "cell_type": "markdown",
      "metadata": {
        "id": "SgvzTA-0B1IZ"
      },
      "source": [
        "既存のZIPファイルに新たなファイルを追加"
      ]
    },
    {
      "cell_type": "code",
      "metadata": {
        "id": "wrsdFp3jBwQt"
      },
      "source": [
        "with zipfile.ZipFile('new_comp.zip', 'a', compression=zipfile.ZIP_DEFLATED) as new_zip:\n",
        "    new_zip.write('testFolder_1/test3.txt', arcname='test3.txt')"
      ],
      "execution_count": null,
      "outputs": []
    },
    {
      "cell_type": "markdown",
      "metadata": {
        "id": "e0QTSqBpCOii"
      },
      "source": [
        "## 解凍\n",
        "すべて解凍"
      ]
    },
    {
      "cell_type": "code",
      "metadata": {
        "id": "10ZgQvxJCPqr"
      },
      "source": [
        "with zipfile.ZipFile('new_comp.zip') as existing_zip:\n",
        "    existing_zip.extractall('ext1')"
      ],
      "execution_count": null,
      "outputs": []
    },
    {
      "cell_type": "markdown",
      "metadata": {
        "id": "cxpseAQBCZLU"
      },
      "source": [
        "ZIPファイルの中身を選択して解凍"
      ]
    },
    {
      "cell_type": "code",
      "metadata": {
        "id": "6KjvVKD6CZux"
      },
      "source": [
        "with zipfile.ZipFile('new_comp.zip') as existing_zip:\n",
        "    existing_zip.extract('test1.txt', 'ext2')"
      ],
      "execution_count": null,
      "outputs": []
    },
    {
      "cell_type": "markdown",
      "metadata": {
        "id": "OyXLlTfUCug_"
      },
      "source": [
        "## フォルダー直下のファイルを表示\n",
        "準備"
      ]
    },
    {
      "cell_type": "code",
      "metadata": {
        "id": "TK3ykMnrCwEW"
      },
      "source": [
        "import os\n",
        "\n",
        "folder = 'testFolder_1'"
      ],
      "execution_count": null,
      "outputs": []
    },
    {
      "cell_type": "markdown",
      "metadata": {
        "id": "rUxOkgmbDIKj"
      },
      "source": [
        "フォルダー直下のファイルを表示"
      ]
    },
    {
      "cell_type": "code",
      "metadata": {
        "colab": {
          "base_uri": "https://localhost:8080/"
        },
        "id": "5nOnM3QLDFmH",
        "outputId": "46e2edbb-e7a9-4dbd-99cb-8b32aa559268"
      },
      "source": [
        "for folder, subfolders, files in os.walk(folder):\n",
        "    print('folder: {}'.format(folder))\n",
        "    print('subfolders: {}'.format(subfolders))\n",
        "    print('files: {}'.format(files))\n",
        "    print()"
      ],
      "execution_count": null,
      "outputs": [
        {
          "output_type": "stream",
          "name": "stdout",
          "text": [
            "folder: testFolder_1/testFolder_1_1\n",
            "subfolders: []\n",
            "files: ['test1.txt', 'test2.txt', 'test3.txt']\n",
            "file: test1.txt\n",
            "file: test2.txt\n",
            "file: test3.txt\n",
            "\n"
          ]
        }
      ]
    },
    {
      "cell_type": "markdown",
      "metadata": {
        "id": "ZSVurmPxDCC7"
      },
      "source": [
        "フォルダー直下のファイルをすべて圧縮"
      ]
    },
    {
      "cell_type": "code",
      "metadata": {
        "id": "aP9yQojLDCb9"
      },
      "source": [
        "with zipfile.ZipFile('new_comp.zip','w', compression=zipfile.ZIP_DEFLATED) as myzip:\n",
        "    for folder, subfolders, files in os.walk(folder):\n",
        "        myzip.write(folder)\n",
        "        for file in files:\n",
        "            myzip.write(os.path.join(folder,file))"
      ],
      "execution_count": null,
      "outputs": []
    }
  ]
}