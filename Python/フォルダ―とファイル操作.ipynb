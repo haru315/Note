{
  "nbformat": 4,
  "nbformat_minor": 0,
  "metadata": {
    "colab": {
      "name": "フォルダ―とファイル操作.ipynb",
      "provenance": [],
      "collapsed_sections": []
    },
    "kernelspec": {
      "name": "python3",
      "display_name": "Python 3"
    },
    "language_info": {
      "name": "python"
    }
  },
  "cells": [
    {
      "cell_type": "markdown",
      "metadata": {
        "id": "0-Q0PwrKkwHt"
      },
      "source": [
        "コラボラトリーで動作します\n",
        "## 準備"
      ]
    },
    {
      "cell_type": "code",
      "metadata": {
        "id": "IPz_xI1AmgfV"
      },
      "source": [
        "# テスト用ファイル・フォルダ―生成\n",
        "! mkdir testFolder_1\n",
        "! touch testFolder_1/test1.txt\n",
        "! touch testFolder_1/test2.txt\n",
        "! touch testFolder_1/test3.txt"
      ],
      "execution_count": null,
      "outputs": []
    },
    {
      "cell_type": "markdown",
      "metadata": {
        "id": "PZ2axeUHndpy"
      },
      "source": [
        "## インポート"
      ]
    },
    {
      "cell_type": "code",
      "metadata": {
        "id": "kJ5NcpAwj1Zg"
      },
      "source": [
        "import os\n",
        "import shutil"
      ],
      "execution_count": null,
      "outputs": []
    },
    {
      "cell_type": "markdown",
      "metadata": {
        "id": "sAr_orFOnlqP"
      },
      "source": [
        "## パスが存在するかチェックする\n",
        "os.path.exists(\"パス\")"
      ]
    },
    {
      "cell_type": "code",
      "metadata": {
        "colab": {
          "base_uri": "https://localhost:8080/"
        },
        "id": "FEgWZlzOnnuc",
        "outputId": "1bc17b78-5574-40ce-ec6c-d7831262a592"
      },
      "source": [
        "os.path.exists(\"./testFolder_1/test1.txt\")"
      ],
      "execution_count": null,
      "outputs": [
        {
          "output_type": "execute_result",
          "data": {
            "text/plain": [
              "True"
            ]
          },
          "metadata": {},
          "execution_count": 18
        }
      ]
    },
    {
      "cell_type": "code",
      "metadata": {
        "colab": {
          "base_uri": "https://localhost:8080/"
        },
        "id": "tU5EMwEvo54X",
        "outputId": "667144fa-e8f7-4b4b-8f56-65f774b970fa"
      },
      "source": [
        "os.path.exists(\"./testFolder_1/xxxxx.txt\")"
      ],
      "execution_count": null,
      "outputs": [
        {
          "output_type": "execute_result",
          "data": {
            "text/plain": [
              "False"
            ]
          },
          "metadata": {},
          "execution_count": 19
        }
      ]
    },
    {
      "cell_type": "code",
      "metadata": {
        "colab": {
          "base_uri": "https://localhost:8080/"
        },
        "id": "KRI9oLbopEqQ",
        "outputId": "90d6a00a-35fe-45a2-b476-0491d3385567"
      },
      "source": [
        "os.path.exists(\"./testFolder_1\")"
      ],
      "execution_count": null,
      "outputs": [
        {
          "output_type": "execute_result",
          "data": {
            "text/plain": [
              "True"
            ]
          },
          "metadata": {},
          "execution_count": 20
        }
      ]
    },
    {
      "cell_type": "code",
      "metadata": {
        "colab": {
          "base_uri": "https://localhost:8080/"
        },
        "id": "ZXn-JhK4pGpF",
        "outputId": "74f69365-22a3-42a8-b972-92da02be7d65"
      },
      "source": [
        "os.path.exists(\"./testFolder_x\")"
      ],
      "execution_count": null,
      "outputs": [
        {
          "output_type": "execute_result",
          "data": {
            "text/plain": [
              "False"
            ]
          },
          "metadata": {},
          "execution_count": 30
        }
      ]
    },
    {
      "cell_type": "markdown",
      "metadata": {
        "id": "ira9046DpOQt"
      },
      "source": [
        "## ファイルかどうかかチェックする\n",
        "os.path.isfile(\"パス\")"
      ]
    },
    {
      "cell_type": "code",
      "metadata": {
        "colab": {
          "base_uri": "https://localhost:8080/"
        },
        "id": "hTbUgCl0pN9d",
        "outputId": "67bf3e1c-6935-4d0b-b3f5-c625a3339d98"
      },
      "source": [
        "os.path.isfile(\"./testFolder_1/test1.txt\")"
      ],
      "execution_count": null,
      "outputs": [
        {
          "output_type": "execute_result",
          "data": {
            "text/plain": [
              "True"
            ]
          },
          "metadata": {},
          "execution_count": 22
        }
      ]
    },
    {
      "cell_type": "code",
      "metadata": {
        "colab": {
          "base_uri": "https://localhost:8080/"
        },
        "id": "-3BhhHm3pjf9",
        "outputId": "7d0bf436-175e-4989-d3e5-7a8fd2667cb8"
      },
      "source": [
        "os.path.isfile(\"./testFolder_1\")"
      ],
      "execution_count": null,
      "outputs": [
        {
          "output_type": "execute_result",
          "data": {
            "text/plain": [
              "False"
            ]
          },
          "metadata": {},
          "execution_count": 23
        }
      ]
    },
    {
      "cell_type": "code",
      "metadata": {
        "colab": {
          "base_uri": "https://localhost:8080/"
        },
        "id": "ZJfGS3DypoVV",
        "outputId": "dfe6a7c8-ce5a-4295-97de-6e5f69467e43"
      },
      "source": [
        "os.path.isfile(\"./testFolder_1/xxxxx.txt\")"
      ],
      "execution_count": null,
      "outputs": [
        {
          "output_type": "execute_result",
          "data": {
            "text/plain": [
              "False"
            ]
          },
          "metadata": {},
          "execution_count": 24
        }
      ]
    },
    {
      "cell_type": "markdown",
      "metadata": {
        "id": "p1HgQpTEp2tg"
      },
      "source": [
        "## ディレクトリかどうかチェックする\n",
        "os.path.isdir(\"パス\")"
      ]
    },
    {
      "cell_type": "code",
      "metadata": {
        "colab": {
          "base_uri": "https://localhost:8080/"
        },
        "id": "AzWUIWvLp37t",
        "outputId": "3c872583-f261-4f87-9b69-015e5c6374e6"
      },
      "source": [
        "os.path.isdir(\"./testFolder_1\")"
      ],
      "execution_count": null,
      "outputs": [
        {
          "output_type": "execute_result",
          "data": {
            "text/plain": [
              "True"
            ]
          },
          "metadata": {},
          "execution_count": 25
        }
      ]
    },
    {
      "cell_type": "code",
      "metadata": {
        "colab": {
          "base_uri": "https://localhost:8080/"
        },
        "id": "3C5FaQCHqKFo",
        "outputId": "a3459b1b-e5f3-473d-9c98-a391cd24c7d1"
      },
      "source": [
        "os.path.isdir(\"./testFolder_1/test1.txt\")"
      ],
      "execution_count": null,
      "outputs": [
        {
          "output_type": "execute_result",
          "data": {
            "text/plain": [
              "False"
            ]
          },
          "metadata": {},
          "execution_count": 29
        }
      ]
    },
    {
      "cell_type": "code",
      "metadata": {
        "colab": {
          "base_uri": "https://localhost:8080/"
        },
        "id": "toO9KKrtrq6W",
        "outputId": "6720318c-7ab5-4d6e-d679-b9a4dc82de06"
      },
      "source": [
        "os.path.isdir(\"./testFolder_x\")"
      ],
      "execution_count": null,
      "outputs": [
        {
          "output_type": "execute_result",
          "data": {
            "text/plain": [
              "False"
            ]
          },
          "metadata": {},
          "execution_count": 31
        }
      ]
    },
    {
      "cell_type": "markdown",
      "metadata": {
        "id": "MjjQvWDUqpjo"
      },
      "source": [
        "## ディレクトリ作成\n",
        "- os.mkdir(\"存在するパス/作成ディレクトリ\")\n",
        "\n",
        "### 中間ディレクトリもまとめて作成\n",
        "- os.makedirs(\"存在しないパス/作成ディレクトリ\")\n",
        "- os.makedirs(\"存在するかもしれないパス, exist_ok=True)"
      ]
    },
    {
      "cell_type": "code",
      "metadata": {
        "id": "_Lyny_CXqqd_"
      },
      "source": [
        "os.mkdir(\"./testFolder_2\")"
      ],
      "execution_count": null,
      "outputs": []
    },
    {
      "cell_type": "code",
      "metadata": {
        "id": "sG2CBmgzsG7N"
      },
      "source": [
        "os.makedirs(\"./testFolder_3/testFolder_3_1\")"
      ],
      "execution_count": null,
      "outputs": []
    },
    {
      "cell_type": "code",
      "metadata": {
        "id": "SeLe3O53trM0"
      },
      "source": [
        "os.makedirs(\"./testFolder_3/testFolder_3_1\", exist_ok=True)"
      ],
      "execution_count": null,
      "outputs": []
    },
    {
      "cell_type": "markdown",
      "metadata": {
        "id": "3rHn1ym9q63c"
      },
      "source": [
        "## ファイルコピー\n",
        "shutil.copyfile(\"コピー元\", \"コピー先\")"
      ]
    },
    {
      "cell_type": "code",
      "metadata": {
        "colab": {
          "base_uri": "https://localhost:8080/",
          "height": 35
        },
        "id": "60weq63Oq6Yu",
        "outputId": "c9ae3a1a-6c04-4442-b1ce-de74fa42d50d"
      },
      "source": [
        "shutil.copyfile(\"./testFolder_1/test1.txt\", \"./test1.txt\")"
      ],
      "execution_count": null,
      "outputs": [
        {
          "output_type": "execute_result",
          "data": {
            "application/vnd.google.colaboratory.intrinsic+json": {
              "type": "string"
            },
            "text/plain": [
              "'./test1.txt'"
            ]
          },
          "metadata": {},
          "execution_count": 48
        }
      ]
    },
    {
      "cell_type": "code",
      "metadata": {
        "colab": {
          "base_uri": "https://localhost:8080/",
          "height": 35
        },
        "id": "bURGOs3Yz3nU",
        "outputId": "36dee48c-aba6-4a2c-bfde-e12c0c154111"
      },
      "source": [
        "shutil.copy(\"./testFolder_1/test1.txt\", \"./test2.txt\")"
      ],
      "execution_count": null,
      "outputs": [
        {
          "output_type": "execute_result",
          "data": {
            "application/vnd.google.colaboratory.intrinsic+json": {
              "type": "string"
            },
            "text/plain": [
              "'./test2.txt'"
            ]
          },
          "metadata": {},
          "execution_count": 49
        }
      ]
    },
    {
      "cell_type": "code",
      "metadata": {
        "colab": {
          "base_uri": "https://localhost:8080/",
          "height": 35
        },
        "id": "eEbCj9Exz35_",
        "outputId": "d7c4248c-4362-4067-b5bc-5beae6d0af6e"
      },
      "source": [
        "shutil.copy2(\"./testFolder_1/test1.txt\", \"./test3.txt\")"
      ],
      "execution_count": null,
      "outputs": [
        {
          "output_type": "execute_result",
          "data": {
            "application/vnd.google.colaboratory.intrinsic+json": {
              "type": "string"
            },
            "text/plain": [
              "'./test3.txt'"
            ]
          },
          "metadata": {},
          "execution_count": 50
        }
      ]
    },
    {
      "cell_type": "markdown",
      "metadata": {
        "id": "DjXM_5B_0EGH"
      },
      "source": [
        "## ディレクトリごとコピー\n",
        "shutil.copytree(\"コピー元\", \"コピー先\")"
      ]
    },
    {
      "cell_type": "code",
      "metadata": {
        "colab": {
          "base_uri": "https://localhost:8080/",
          "height": 35
        },
        "id": "TLFnHBIL0nP5",
        "outputId": "f708dd76-b069-4e38-fd06-8c3dd8a08b14"
      },
      "source": [
        "shutil.copytree(\"./testFolder_1\", \"./testFolder_copy\")"
      ],
      "execution_count": null,
      "outputs": [
        {
          "output_type": "execute_result",
          "data": {
            "application/vnd.google.colaboratory.intrinsic+json": {
              "type": "string"
            },
            "text/plain": [
              "'./testFolder_copy'"
            ]
          },
          "metadata": {},
          "execution_count": 47
        }
      ]
    },
    {
      "cell_type": "markdown",
      "metadata": {
        "id": "RqItfbHUyLsy"
      },
      "source": [
        "すでにあるディレクトリにコピーしたい場合"
      ]
    },
    {
      "cell_type": "code",
      "metadata": {
        "colab": {
          "base_uri": "https://localhost:8080/"
        },
        "id": "q0oRMOxGyMsr",
        "outputId": "30a4a7a5-4f14-4528-94a1-9336dc4ebf76"
      },
      "source": [
        "from distutils.dir_util import copy_tree\n",
        "copy_tree(\"./testFolder_1\", \"./testFolder_copy\")"
      ],
      "execution_count": null,
      "outputs": [
        {
          "output_type": "execute_result",
          "data": {
            "text/plain": [
              "['./testFolder_copy/test1.txt',\n",
              " './testFolder_copy/test2.txt',\n",
              " './testFolder_copy/test3.txt']"
            ]
          },
          "metadata": {},
          "execution_count": 46
        }
      ]
    },
    {
      "cell_type": "markdown",
      "metadata": {
        "id": "n2EMvW0M1AXg"
      },
      "source": [
        "## ファイル削除\n",
        "os.remove(\"パス\")"
      ]
    },
    {
      "cell_type": "code",
      "metadata": {
        "id": "3AysMyaX0_vx"
      },
      "source": [
        "os.remove(\"./test1.txt\")\n",
        "# 無いとエラー"
      ],
      "execution_count": null,
      "outputs": []
    },
    {
      "cell_type": "markdown",
      "metadata": {
        "id": "2mk9Xdt11Nf-"
      },
      "source": [
        "# ディレクトリ削除\n",
        "- os.rmdir(\"パス\")\n",
        "- shutil.rmtree(\"パス\")"
      ]
    },
    {
      "cell_type": "code",
      "metadata": {
        "id": "cPzAVCfh1Ou3"
      },
      "source": [
        "os.rmdir(\"./testFolder_2\")"
      ],
      "execution_count": null,
      "outputs": []
    },
    {
      "cell_type": "markdown",
      "metadata": {
        "id": "Oe1UhCcC2eJf"
      },
      "source": [
        "フォルダごと中身を削除する場合"
      ]
    },
    {
      "cell_type": "code",
      "metadata": {
        "id": "35X2a6-l2fHe"
      },
      "source": [
        "shutil.rmtree(\"./testFolder_3\")"
      ],
      "execution_count": null,
      "outputs": []
    },
    {
      "cell_type": "markdown",
      "metadata": {
        "id": "EQer3oPC5GA8"
      },
      "source": [
        "## ファイル/ディレクトリ名変更\n",
        "os.rename(\"変更元\", \"変更名\")"
      ]
    },
    {
      "cell_type": "code",
      "metadata": {
        "id": "2819_U6s5NAD"
      },
      "source": [
        "os.rename(\"./test2.txt\", \"./test222.txt\")"
      ],
      "execution_count": null,
      "outputs": []
    },
    {
      "cell_type": "markdown",
      "metadata": {
        "id": "t8AiZkkJ6YPY"
      },
      "source": [
        "# 拡張子取得\n",
        "ファイル名, 拡張子 = os.path.splitext('パス')"
      ]
    },
    {
      "cell_type": "code",
      "metadata": {
        "id": "Ltga47Z86eT9"
      },
      "source": [
        "ftitle, fext = os.path.splitext('./testFolder_1/test1.txt')"
      ],
      "execution_count": null,
      "outputs": []
    },
    {
      "cell_type": "code",
      "metadata": {
        "colab": {
          "base_uri": "https://localhost:8080/",
          "height": 35
        },
        "id": "Xh9uOKNp66Tu",
        "outputId": "9bb5bbdd-a839-473a-bd96-3d1ebace5fbb"
      },
      "source": [
        "fext"
      ],
      "execution_count": null,
      "outputs": [
        {
          "output_type": "execute_result",
          "data": {
            "application/vnd.google.colaboratory.intrinsic+json": {
              "type": "string"
            },
            "text/plain": [
              "'.txt'"
            ]
          },
          "metadata": {},
          "execution_count": 70
        }
      ]
    },
    {
      "cell_type": "code",
      "metadata": {
        "colab": {
          "base_uri": "https://localhost:8080/",
          "height": 35
        },
        "id": "UgY-PwNu663J",
        "outputId": "4bcc140c-6c66-4d36-e0b4-6013e3dc60e7"
      },
      "source": [
        "ftitle"
      ],
      "execution_count": null,
      "outputs": [
        {
          "output_type": "execute_result",
          "data": {
            "application/vnd.google.colaboratory.intrinsic+json": {
              "type": "string"
            },
            "text/plain": [
              "'./testFolder_1/test1'"
            ]
          },
          "metadata": {},
          "execution_count": 71
        }
      ]
    },
    {
      "cell_type": "markdown",
      "metadata": {
        "id": "hv6zoI027JqL"
      },
      "source": [
        "## フルパスからファイル名を取得\n",
        "os.path.basename(\"パス\")"
      ]
    },
    {
      "cell_type": "code",
      "metadata": {
        "colab": {
          "base_uri": "https://localhost:8080/",
          "height": 35
        },
        "id": "bvIM3avk7LU7",
        "outputId": "6ebcdc60-a583-4565-994d-5f1113d2001a"
      },
      "source": [
        "os.path.basename('./testFolder_1/test1.txt')"
      ],
      "execution_count": null,
      "outputs": [
        {
          "output_type": "execute_result",
          "data": {
            "application/vnd.google.colaboratory.intrinsic+json": {
              "type": "string"
            },
            "text/plain": [
              "'test1.txt'"
            ]
          },
          "metadata": {},
          "execution_count": 72
        }
      ]
    },
    {
      "cell_type": "markdown",
      "metadata": {
        "id": "Dkl6dEE78ITg"
      },
      "source": [
        "Linux上でWindowsのパスと扱いたい場合"
      ]
    },
    {
      "cell_type": "code",
      "metadata": {
        "colab": {
          "base_uri": "https://localhost:8080/",
          "height": 35
        },
        "id": "p5yeg7w876O3",
        "outputId": "b677dcc4-adb9-477d-cda4-c5d31ae95f1c"
      },
      "source": [
        "os.path.basename('.\\\\testFolder_1\\\\test1.txt')"
      ],
      "execution_count": null,
      "outputs": [
        {
          "output_type": "execute_result",
          "data": {
            "application/vnd.google.colaboratory.intrinsic+json": {
              "type": "string"
            },
            "text/plain": [
              "'.\\\\testFolder_1\\\\test1.txt'"
            ]
          },
          "metadata": {},
          "execution_count": 76
        }
      ]
    },
    {
      "cell_type": "code",
      "metadata": {
        "colab": {
          "base_uri": "https://localhost:8080/",
          "height": 35
        },
        "id": "norjlp_d7-iR",
        "outputId": "4137740a-e50d-409a-e191-2b93afdc0b5b"
      },
      "source": [
        "import ntpath\n",
        "ntpath.basename('.\\\\testFolder_1\\\\test1.txt')"
      ],
      "execution_count": null,
      "outputs": [
        {
          "output_type": "execute_result",
          "data": {
            "application/vnd.google.colaboratory.intrinsic+json": {
              "type": "string"
            },
            "text/plain": [
              "'test1.txt'"
            ]
          },
          "metadata": {},
          "execution_count": 75
        }
      ]
    },
    {
      "cell_type": "markdown",
      "metadata": {
        "id": "_Kuj6HbI8ZVN"
      },
      "source": [
        "## ディレクトリ名とファイル名に分割\n",
        "os.path.split(\"パス\")"
      ]
    },
    {
      "cell_type": "code",
      "metadata": {
        "colab": {
          "base_uri": "https://localhost:8080/"
        },
        "id": "Dg2KghrJ8arj",
        "outputId": "8cd6a65b-94b5-4f4d-a299-ce9644c80d48"
      },
      "source": [
        "os.path.split('./testFolder_1/test1.txt')"
      ],
      "execution_count": null,
      "outputs": [
        {
          "output_type": "execute_result",
          "data": {
            "text/plain": [
              "('./testFolder_1', 'test1.txt')"
            ]
          },
          "metadata": {},
          "execution_count": 77
        }
      ]
    },
    {
      "cell_type": "markdown",
      "metadata": {
        "id": "LtqFxsEF8zFI"
      },
      "source": [
        "Linux上でWindowsのパスと扱いたい場合"
      ]
    },
    {
      "cell_type": "code",
      "metadata": {
        "colab": {
          "base_uri": "https://localhost:8080/"
        },
        "id": "RhXXbSUI8zuX",
        "outputId": "ae55e81a-030a-4148-8c94-ed8d86d8edb7"
      },
      "source": [
        "import ntpath\n",
        "ntpath.split('.\\\\testFolder_1\\\\test1.txt')"
      ],
      "execution_count": null,
      "outputs": [
        {
          "output_type": "execute_result",
          "data": {
            "text/plain": [
              "('.\\\\testFolder_1', 'test1.txt')"
            ]
          },
          "metadata": {},
          "execution_count": 82
        }
      ]
    },
    {
      "cell_type": "markdown",
      "metadata": {
        "id": "wXN1pJFQ9H1G"
      },
      "source": [
        "## ディレクトリ名とファイル名を結合"
      ]
    },
    {
      "cell_type": "code",
      "metadata": {
        "colab": {
          "base_uri": "https://localhost:8080/",
          "height": 35
        },
        "id": "Ckb7yGsD9HBR",
        "outputId": "a64fb86d-6c1e-4188-f966-3b7e44fa7715"
      },
      "source": [
        "os.path.join('/folder1/folder2','test1.txt')"
      ],
      "execution_count": null,
      "outputs": [
        {
          "output_type": "execute_result",
          "data": {
            "application/vnd.google.colaboratory.intrinsic+json": {
              "type": "string"
            },
            "text/plain": [
              "'/folder1/folder2/test1.txt'"
            ]
          },
          "metadata": {},
          "execution_count": 79
        }
      ]
    }
  ]
}