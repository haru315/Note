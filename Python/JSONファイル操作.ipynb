{
  "nbformat": 4,
  "nbformat_minor": 0,
  "metadata": {
    "colab": {
      "name": "JSONファイル操作.ipynb",
      "provenance": [],
      "collapsed_sections": []
    },
    "kernelspec": {
      "name": "python3",
      "display_name": "Python 3"
    },
    "language_info": {
      "name": "python"
    }
  },
  "cells": [
    {
      "cell_type": "markdown",
      "metadata": {
        "id": "B0JYYLdpAEUQ"
      },
      "source": [
        "コラボラトリーで動作します\n",
        "## 準備"
      ]
    },
    {
      "cell_type": "code",
      "metadata": {
        "id": "R-yiT06yK6_1"
      },
      "source": [
        "import json\n",
        "json_data = {\n",
        "    \"book1\":{\n",
        "    \"String_1\": \"Test1\",\n",
        "    \"Number_1\": 10,\n",
        "    \"Number_2\": 240,\n",
        "   },\n",
        "    \"book2\": {\n",
        "    \"String_1\": \"Test2\",\n",
        "    \"Number_1\": 20,\n",
        "    \"Number_2\": 480,\n",
        "    }\n",
        "}\n",
        "with open('test.json', mode='wt', encoding='utf-8') as f:\n",
        "    json.dump(json_data, f, ensure_ascii=False, indent=2)"
      ],
      "execution_count": 17,
      "outputs": []
    },
    {
      "cell_type": "markdown",
      "metadata": {
        "id": "PZ2axeUHndpy"
      },
      "source": [
        "## インポート"
      ]
    },
    {
      "cell_type": "code",
      "metadata": {
        "id": "sCi7V3JhKhnq"
      },
      "source": [
        "import json"
      ],
      "execution_count": 2,
      "outputs": []
    },
    {
      "cell_type": "markdown",
      "metadata": {
        "id": "ijSucIr_QHCS"
      },
      "source": [
        "## json読み込み"
      ]
    },
    {
      "cell_type": "code",
      "metadata": {
        "id": "-DnIaLvSQITx"
      },
      "source": [
        "f = open('test.json', 'r')\n",
        "json_dict = json.load(f)"
      ],
      "execution_count": 57,
      "outputs": []
    },
    {
      "cell_type": "code",
      "metadata": {
        "colab": {
          "base_uri": "https://localhost:8080/"
        },
        "id": "pgMg1CSiTJOD",
        "outputId": "0875d5cc-f5f5-461b-86ca-f0bac5ad024e"
      },
      "source": [
        "json_dict"
      ],
      "execution_count": 58,
      "outputs": [
        {
          "output_type": "execute_result",
          "data": {
            "text/plain": [
              "{'book1': {'Number_1': 10, 'Number_2': 240, 'String_1': 'Test1'},\n",
              " 'book2': {'Number_1': 20, 'Number_2': 480, 'String_1': 'Test2'}}"
            ]
          },
          "metadata": {},
          "execution_count": 58
        }
      ]
    },
    {
      "cell_type": "markdown",
      "metadata": {
        "id": "af9tAyHpaQpm"
      },
      "source": [
        "## キー確認"
      ]
    },
    {
      "cell_type": "code",
      "metadata": {
        "colab": {
          "base_uri": "https://localhost:8080/"
        },
        "id": "VFt7AmBUaHf4",
        "outputId": "b8be0a5d-95e6-474f-8c76-76d655d224c0"
      },
      "source": [
        "print('book1' in json_dict)\n",
        "print('XXX' in json_dict)"
      ],
      "execution_count": 59,
      "outputs": [
        {
          "output_type": "stream",
          "name": "stdout",
          "text": [
            "True\n",
            "False\n"
          ]
        }
      ]
    },
    {
      "cell_type": "markdown",
      "metadata": {
        "id": "vkKJbCM0Tlhk"
      },
      "source": [
        "## 要素取得"
      ]
    },
    {
      "cell_type": "code",
      "metadata": {
        "colab": {
          "base_uri": "https://localhost:8080/"
        },
        "id": "_3crNAxATmQl",
        "outputId": "80abcd90-7178-4aec-965c-568d9d192475"
      },
      "source": [
        "json_dict['book1']"
      ],
      "execution_count": 60,
      "outputs": [
        {
          "output_type": "execute_result",
          "data": {
            "text/plain": [
              "{'Number_1': 10, 'Number_2': 240, 'String_1': 'Test1'}"
            ]
          },
          "metadata": {},
          "execution_count": 60
        }
      ]
    },
    {
      "cell_type": "code",
      "metadata": {
        "colab": {
          "base_uri": "https://localhost:8080/"
        },
        "id": "C4mBlwWjTsgO",
        "outputId": "09f36149-c61a-49c3-f861-09e0cc3df61b"
      },
      "source": [
        "json_dict['book1']['Number_2']"
      ],
      "execution_count": 22,
      "outputs": [
        {
          "output_type": "execute_result",
          "data": {
            "text/plain": [
              "240"
            ]
          },
          "metadata": {},
          "execution_count": 22
        }
      ]
    },
    {
      "cell_type": "markdown",
      "metadata": {
        "id": "5taz-dW7UHFf"
      },
      "source": [
        "## [キー]で指定して新たな値を代入できる。"
      ]
    },
    {
      "cell_type": "code",
      "metadata": {
        "id": "732inj6vUIFC"
      },
      "source": [
        "json_dict['book1']['Number_2'] = 99999"
      ],
      "execution_count": 23,
      "outputs": []
    },
    {
      "cell_type": "code",
      "metadata": {
        "colab": {
          "base_uri": "https://localhost:8080/"
        },
        "id": "ZpeH3UauUWZ9",
        "outputId": "87a95e8e-d5f1-4229-fe5e-a2922ffab07c"
      },
      "source": [
        "json_dict"
      ],
      "execution_count": 24,
      "outputs": [
        {
          "output_type": "execute_result",
          "data": {
            "text/plain": [
              "{'book1': {'Number_1': 10, 'Number_2': 99999, 'String_1': 'Test1'},\n",
              " 'book2': {'Number_1': 20, 'Number_2': 480, 'String_1': 'Test2'}}"
            ]
          },
          "metadata": {},
          "execution_count": 24
        }
      ]
    },
    {
      "cell_type": "code",
      "metadata": {
        "colab": {
          "base_uri": "https://localhost:8080/"
        },
        "id": "vE16IDq1Upw4",
        "outputId": "62ebe5fa-5ae3-41ff-882c-0fefaacc19e7"
      },
      "source": [
        "json_dict['book1']['Number_2']"
      ],
      "execution_count": 25,
      "outputs": [
        {
          "output_type": "execute_result",
          "data": {
            "text/plain": [
              "99999"
            ]
          },
          "metadata": {},
          "execution_count": 25
        }
      ]
    },
    {
      "cell_type": "markdown",
      "metadata": {
        "id": "uuQspy2pUtqv"
      },
      "source": [
        "## 要素の削除"
      ]
    },
    {
      "cell_type": "code",
      "metadata": {
        "colab": {
          "base_uri": "https://localhost:8080/"
        },
        "id": "F9m_IGWsUs17",
        "outputId": "28b907c2-eaed-42dc-88db-176fceffc268"
      },
      "source": [
        "# 戻り値は消した値\n",
        "json_dict.pop('book2')"
      ],
      "execution_count": 26,
      "outputs": [
        {
          "output_type": "execute_result",
          "data": {
            "text/plain": [
              "{'Number_1': 20, 'Number_2': 480, 'String_1': 'Test2'}"
            ]
          },
          "metadata": {},
          "execution_count": 26
        }
      ]
    },
    {
      "cell_type": "code",
      "metadata": {
        "colab": {
          "base_uri": "https://localhost:8080/"
        },
        "id": "f2Suu8sYWLbN",
        "outputId": "5484c247-13b8-4650-e6d1-3d44a2538ff2"
      },
      "source": [
        "json_dict"
      ],
      "execution_count": 27,
      "outputs": [
        {
          "output_type": "execute_result",
          "data": {
            "text/plain": [
              "{'book1': {'Number_1': 10, 'Number_2': 99999, 'String_1': 'Test1'}}"
            ]
          },
          "metadata": {},
          "execution_count": 27
        }
      ]
    },
    {
      "cell_type": "markdown",
      "metadata": {
        "id": "vb0yC_prWacR"
      },
      "source": [
        "## 要素の書き込み"
      ]
    },
    {
      "cell_type": "code",
      "metadata": {
        "id": "e6sjN7_OWZBL"
      },
      "source": [
        "json_dict['new_num'] = 123\n",
        "json_dict['new_list'] = [1,2,3]\n",
        "json_dict['new_string'] = 'abcdef'\n",
        "json_dict['new_book'] = {'animal':'dock','health':10}"
      ],
      "execution_count": 34,
      "outputs": []
    },
    {
      "cell_type": "code",
      "metadata": {
        "colab": {
          "base_uri": "https://localhost:8080/"
        },
        "id": "oTZlDjt7Wr0c",
        "outputId": "2960cc33-ba23-4001-97a6-c74e5b08119c"
      },
      "source": [
        "json_dict"
      ],
      "execution_count": 35,
      "outputs": [
        {
          "output_type": "execute_result",
          "data": {
            "text/plain": [
              "{'book1': {'Number_1': 10, 'Number_2': 99999, 'String_1': 'Test1'},\n",
              " 'new_book': {'animal': 'dock', 'health': 10},\n",
              " 'new_list': [1, 2, 3],\n",
              " 'new_num': 123,\n",
              " 'new_string': 'abcdef'}"
            ]
          },
          "metadata": {},
          "execution_count": 35
        }
      ]
    },
    {
      "cell_type": "markdown",
      "metadata": {
        "id": "gKLcBHj_WyQN"
      },
      "source": [
        "## 保存"
      ]
    },
    {
      "cell_type": "code",
      "metadata": {
        "id": "bU9ZtiYOWwWi"
      },
      "source": [
        "with open('test_new.json', mode='wt', encoding='utf-8') as file:\n",
        "    json.dump(json_dict, file, ensure_ascii=False, indent=2)"
      ],
      "execution_count": 36,
      "outputs": []
    },
    {
      "cell_type": "markdown",
      "metadata": {
        "id": "itLIizp2aiOs"
      },
      "source": [
        "## JSONデータ作成"
      ]
    },
    {
      "cell_type": "code",
      "metadata": {
        "id": "n4BtpQrBakM7"
      },
      "source": [
        "# 元データ作成\n",
        "j = \"\"\"{\n",
        "    \"id\":1,\n",
        "    \"name\":\"abc\",\n",
        "    \"book\":{\n",
        "        \"Number\":27,\n",
        "        \"String\":\"ABC\"\n",
        "    }\n",
        "}\"\"\"\n",
        "json_data = json.loads(j)"
      ],
      "execution_count": 65,
      "outputs": []
    },
    {
      "cell_type": "code",
      "metadata": {
        "colab": {
          "base_uri": "https://localhost:8080/"
        },
        "id": "nnu7bdi9a1X5",
        "outputId": "b3ac3b5e-666b-41ae-89f3-0be810c91426"
      },
      "source": [
        "json_data"
      ],
      "execution_count": 66,
      "outputs": [
        {
          "output_type": "execute_result",
          "data": {
            "text/plain": [
              "{'book': {'Number': 27, 'String': 'ABC'}, 'id': 1, 'name': 'abc'}"
            ]
          },
          "metadata": {},
          "execution_count": 66
        }
      ]
    }
  ]
}